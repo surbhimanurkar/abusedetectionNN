{
 "cells": [
  {
   "cell_type": "code",
   "execution_count": null,
   "metadata": {},
   "outputs": [],
   "source": [
    "#Weights that will suspend rewards for manual review. Optimising for recall.\n",
    "\n",
    "\n",
    "import pandas as pd\n",
    "import json\n",
    "import requests\n",
    "from snowflake.sqlalchemy import URL\n",
    "from sqlalchemy import create_engine\n",
    "from statsmodels.discrete.discrete_model import Logit\n",
    "from sklearn.model_selection import train_test_split\n",
    "from sklearn.metrics import precision_score\n",
    "from sklearn.metrics import recall_score\n",
    "from sklearn.metrics import confusion_matrix\n",
    "import math\n",
    "import numpy as np\n",
    "import h5py\n",
    "import matplotlib.pyplot as plt\n",
    "import tensorflow as tf\n",
    "from tensorflow.python.framework import ops\n",
    "from tabulate import tabulate\n",
    "from tf_utils import load_dataset, random_mini_batches, convert_to_one_hot, predict\n",
    "%matplotlib inline\n",
    "engine = create_engine(URL(\n",
    "    account='XXXX',\n",
    "    region='XXXX',\n",
    "    user='XX',\n",
    "    password = \"XXX\",\n",
    "    authenticator='EXTERNALBROWSER',\n",
    "    database='XXX',\n",
    "    schema='XXX',\n",
    "    warehouse='XXX'\n",
    "))\n",
    "connection = engine.connect()"
   ]
  },
  {
   "cell_type": "code",
   "execution_count": null,
   "metadata": {},
   "outputs": [],
   "source": [
    "tf.reset_default_graph()"
   ]
  },
  {
   "cell_type": "code",
   "execution_count": null,
   "metadata": {},
   "outputs": [],
   "source": [
    "sql_query = \"\"\"SELECT\n",
    "*\n",
    "FROM \n",
    "xxxxxx\n",
    "\"\"\"\n",
    "\n",
    "df = pd.read_sql_query(sql_query, connection)\n",
    "df = df.rename(columns={'reward_approved':'program_disabled'})\n",
    "df['program_disabled'] = 1- df.program_disabled"
   ]
  },
  {
   "cell_type": "code",
   "execution_count": null,
   "metadata": {},
   "outputs": [],
   "source": [
    "df.query('program_disabled == 0').head()"
   ]
  },
  {
   "cell_type": "code",
   "execution_count": null,
   "metadata": {},
   "outputs": [],
   "source": [
    "X = df[df.drop(['payout_id','user_id','review_date','program_disabled'], axis=1).columns]\n",
    "y = df.program_disabled\n",
    "\n",
    "#log_reg = Logit()"
   ]
  },
  {
   "cell_type": "code",
   "execution_count": null,
   "metadata": {},
   "outputs": [],
   "source": [
    "def convert_to_one_hot_matrix(Y, C):\n",
    "    Y = np.eye(C)[Y.reshape(-1)]\n",
    "    return Y"
   ]
  },
  {
   "cell_type": "code",
   "execution_count": null,
   "metadata": {},
   "outputs": [],
   "source": [
    "X_train_orig, X_test_orig, Y_train_orig, Y_test_orig = train_test_split(X, y, test_size=0.2, random_state=42)"
   ]
  },
  {
   "cell_type": "code",
   "execution_count": null,
   "metadata": {},
   "outputs": [],
   "source": [
    "# Flatten the training and test sets\n",
    "x_train = X_train_orig.values.reshape(X_train_orig.shape[0], -1)\n",
    "x_test = X_test_orig.values.reshape(X_test_orig.shape[0], -1)\n",
    "# Convert training and test labels to one hot matrices\n",
    "#y_train = Y_train_orig.values.reshape(X_train_orig.shape[0], -1)\n",
    "#y_test = Y_test_orig.values.reshape(Y_test_orig.shape[0], -1)\n",
    "y_train = convert_to_one_hot_matrix(Y_train_orig.values, 2)\n",
    "y_test = convert_to_one_hot_matrix(Y_test_orig.values, 2)"
   ]
  },
  {
   "cell_type": "code",
   "execution_count": null,
   "metadata": {},
   "outputs": [],
   "source": [
    "m_train = x_train.shape[0]\n",
    "m_test = x_test.shape[0]\n",
    "n_input = x_train.shape[1]\n",
    "n_output = y_train.shape[1]\n",
    "print(\"Number of examples in train: \" + str(m_train) +\n",
    "     \"\\nNumber of examples in test: \" + str(m_test) +\n",
    "     \"\\nNumber of input features: \" + str(n_input) +\n",
    "     \"\\nNumber of output features: \" + str(n_output))"
   ]
  },
  {
   "cell_type": "code",
   "execution_count": null,
   "metadata": {},
   "outputs": [],
   "source": [
    "#Hyperparameters\n",
    "learning_rate = 0.0001\n",
    "training_epochs = 5000\n",
    "display_step = 500\n",
    "batch_size = 64\n",
    "n_hidden_1 = 15\n",
    "n_hidden_2 = 14\n",
    "n_hidden_3 = 10\n",
    "\n",
    "#Constants\n",
    "print_cost = True"
   ]
  },
  {
   "cell_type": "code",
   "execution_count": null,
   "metadata": {},
   "outputs": [],
   "source": [
    "#Initialise\n",
    "\n",
    "W1 = tf.get_variable(\"W1\", [n_input,n_hidden_1], dtype=tf.float64, initializer = tf.contrib.layers.xavier_initializer())\n",
    "b1 = tf.get_variable(\"b1\", [n_hidden_1], dtype=tf.float64, initializer = tf.zeros_initializer())\n",
    "W2 = tf.get_variable(\"W2\", [n_hidden_1,n_hidden_2], dtype=tf.float64, initializer = tf.contrib.layers.xavier_initializer())\n",
    "b2 = tf.get_variable(\"b2\", [n_hidden_2], dtype=tf.float64, initializer = tf.zeros_initializer())\n",
    "W3 = tf.get_variable(\"W3\", [n_hidden_2,n_hidden_3], dtype=tf.float64, initializer = tf.contrib.layers.xavier_initializer())\n",
    "b3 = tf.get_variable(\"b3\", [n_hidden_3], dtype=tf.float64, initializer = tf.zeros_initializer())\n",
    "W4 = tf.get_variable(\"W4\", [n_hidden_3,n_output], dtype=tf.float64, initializer = tf.contrib.layers.xavier_initializer())\n",
    "b4 = tf.get_variable(\"b4\", [n_output], dtype=tf.float64, initializer = tf.zeros_initializer())\n",
    "\n",
    "\n",
    "keep_prob = tf.placeholder(tf.float64)"
   ]
  },
  {
   "cell_type": "code",
   "execution_count": null,
   "metadata": {},
   "outputs": [],
   "source": [
    "#creating placeholders\n",
    "x = tf.placeholder(tf.float64, [None,n_input])\n",
    "y = tf.placeholder(tf.float64)"
   ]
  },
  {
   "cell_type": "code",
   "execution_count": null,
   "metadata": {},
   "outputs": [],
   "source": [
    "#Model\n",
    "def model(x, W1, b1, W2, b2,W3,b3,W4,b4, keep_prob):\n",
    "    layer_1 = tf.add(tf.matmul(x, W1), b1)\n",
    "    layer_1 = tf.nn.relu(layer_1)\n",
    "    layer_2 = tf.add(tf.matmul(layer_1, W2), b2)\n",
    "    layer_2 = tf.nn.relu(layer_2)\n",
    "    layer_3 = tf.add(tf.matmul(layer_2, W3), b3)\n",
    "    layer_3 = tf.nn.relu(layer_3)\n",
    "    logits = tf.add(tf.matmul(layer_3, W4),b4)\n",
    "    out_layer = tf.sigmoid(logits)\n",
    "    return out_layer, logits"
   ]
  },
  {
   "cell_type": "code",
   "execution_count": null,
   "metadata": {},
   "outputs": [],
   "source": [
    "predictions, logits = model(x, W1,b1,W2,b2,W3,b3,W4,b4, keep_prob)\n",
    "cost = tf.reduce_mean(tf.nn.weighted_cross_entropy_with_logits(labels = y, logits = logits, pos_weight = 0.5))\n",
    "optimizer = tf.train.AdamOptimizer(learning_rate = learning_rate).minimize(cost)"
   ]
  },
  {
   "cell_type": "code",
   "execution_count": null,
   "metadata": {},
   "outputs": [],
   "source": [
    "costs = []\n",
    "\n",
    "sess = tf.Session()\n",
    "sess.run(tf.global_variables_initializer())\n",
    "\n",
    "for epoch in range(training_epochs):\n",
    "        epoch_cost = 0\n",
    "        i = 0\n",
    "        while i < len(x_train):\n",
    "            start = i\n",
    "            end = i + batch_size\n",
    "            batch_x = np.array(x_train[start:end])\n",
    "            batch_y = np.array(y_train[start:end])\n",
    "\n",
    "            _, c = sess.run([optimizer, cost], feed_dict={x: batch_x,\n",
    "                                        y: batch_y,keep_prob: 0.8})\n",
    "            epoch_cost += c/batch_size\n",
    "            i+=batch_size\n",
    "\n",
    "            \n",
    "            # Print the cost every epoch\n",
    "        if print_cost == True and epoch % display_step == 0:\n",
    "            print (\"Cost after epoch %i: %f\" % (epoch, epoch_cost))\n",
    "        if print_cost == True and epoch % 5 == 0:\n",
    "            costs.append(epoch_cost)\n",
    "            \n",
    "# plot the cost\n",
    "plt.plot(np.squeeze(costs))\n",
    "plt.ylabel('cost')\n",
    "plt.xlabel('iterations (per fives)')\n",
    "plt.title(\"Learning rate =\" + str(learning_rate))\n",
    "plt.show()\n",
    "\n",
    "correct_prediction = tf.equal(tf.argmax(predictions, 1), tf.argmax(y, 1))\n",
    "accuracy = tf.reduce_mean(tf.cast(correct_prediction, \"float\"))\n",
    "print(\"Train Accuracy:\", accuracy.eval(session = sess,feed_dict = {x: x_train, y: y_train, keep_prob: 1.0}))\n",
    "print(\"Test Accuracy:\", accuracy.eval(session = sess,feed_dict = {x: x_test, y: y_test, keep_prob: 1.0}))\n"
   ]
  }
 ],
 "metadata": {
  "kernelspec": {
   "display_name": "Python 3",
   "language": "python",
   "name": "python3"
  },
  "language_info": {
   "codemirror_mode": {
    "name": "ipython",
    "version": 3
   },
   "file_extension": ".py",
   "mimetype": "text/x-python",
   "name": "python",
   "nbconvert_exporter": "python",
   "pygments_lexer": "ipython3",
   "version": "3.7.4"
  }
 },
 "nbformat": 4,
 "nbformat_minor": 4
}
